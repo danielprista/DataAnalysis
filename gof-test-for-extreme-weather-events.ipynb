{
 "cells": [
  {
   "cell_type": "code",
   "execution_count": 1,
   "id": "5f821551",
   "metadata": {
    "_execution_state": "idle",
    "_uuid": "051d70d956493feee0c6d64651c6a088724dca2a",
    "execution": {
     "iopub.execute_input": "2023-08-25T09:27:52.111783Z",
     "iopub.status.busy": "2023-08-25T09:27:52.109319Z",
     "iopub.status.idle": "2023-08-25T09:27:52.361263Z",
     "shell.execute_reply": "2023-08-25T09:27:52.359498Z"
    },
    "papermill": {
     "duration": 0.262974,
     "end_time": "2023-08-25T09:27:52.364089",
     "exception": false,
     "start_time": "2023-08-25T09:27:52.101115",
     "status": "completed"
    },
    "tags": []
   },
   "outputs": [
    {
     "name": "stderr",
     "output_type": "stream",
     "text": [
      "\n",
      "Attaching package: ‘dplyr’\n",
      "\n",
      "\n",
      "The following objects are masked from ‘package:stats’:\n",
      "\n",
      "    filter, lag\n",
      "\n",
      "\n",
      "The following objects are masked from ‘package:base’:\n",
      "\n",
      "    intersect, setdiff, setequal, union\n",
      "\n",
      "\n"
     ]
    }
   ],
   "source": [
    "# Loading libraries\n",
    "library(readr)\n",
    "library(dplyr)"
   ]
  },
  {
   "cell_type": "markdown",
   "id": "fcbb1afe",
   "metadata": {
    "papermill": {
     "duration": 0.004216,
     "end_time": "2023-08-25T09:27:52.372859",
     "exception": false,
     "start_time": "2023-08-25T09:27:52.368643",
     "status": "completed"
    },
    "tags": []
   },
   "source": [
    "Before we start, let's define some functions that will be useful later in this project. Our original dataset has the data for maximum temperature and cumulative rain for 1 hour intervals. But that is not what we want, we want this data for 24 hour intervals. So, the first function will calculate a cumulative sum for a specified column on the Data Frame for a specified window size, whuch we will use for the rain, and the second function picks the maximum value for a specified column and window size, which we will use for the maximum temperature."
   ]
  },
  {
   "cell_type": "code",
   "execution_count": 2,
   "id": "30ad1afa",
   "metadata": {
    "execution": {
     "iopub.execute_input": "2023-08-25T09:27:52.417116Z",
     "iopub.status.busy": "2023-08-25T09:27:52.383132Z",
     "iopub.status.idle": "2023-08-25T09:27:52.432778Z",
     "shell.execute_reply": "2023-08-25T09:27:52.431022Z"
    },
    "papermill": {
     "duration": 0.058826,
     "end_time": "2023-08-25T09:27:52.435868",
     "exception": false,
     "start_time": "2023-08-25T09:27:52.377042",
     "status": "completed"
    },
    "tags": []
   },
   "outputs": [],
   "source": [
    "\n",
    "# Functions\n",
    "cumulative_sum <- function(data, column_name, window_size) {\n",
    "  n_rows <- nrow(data)\n",
    "  result <- numeric(n_rows)\n",
    "  #progress bar\n",
    "  pb <- txtProgressBar(min = 0,\n",
    "                       max = n_rows,\n",
    "                       style = 3,\n",
    "                       width = 50,\n",
    "                       char = \"=\")\n",
    "  for (i in window_size:n_rows) {\n",
    "    result[i] <- sum(data[[column_name]][i:(i - window_size + 1)])\n",
    "    setTxtProgressBar(pb, i)\n",
    "  }\n",
    "  cat(\"\\nDone!\")\n",
    "  return(result)\n",
    "}\n",
    "\n",
    "max_within_window <- function(data, column_name, window_size) {\n",
    "  n_rows <- nrow(data)\n",
    "  result <- numeric(n_rows)\n",
    "  pb <- txtProgressBar(min = 0,\n",
    "                       max = n_rows,\n",
    "                       style = 3,\n",
    "                       width = 50,\n",
    "                       char = \"=\")  \n",
    "  for (i in (window_size + 1):n_rows) {\n",
    "    result[i] <- max(data[[column_name]][i:(i - window_size + 1)])\n",
    "    setTxtProgressBar(pb, i)    \n",
    "  }\n",
    "  cat(\"\\nDone!\")\n",
    "  return(result)\n",
    "}"
   ]
  },
  {
   "cell_type": "markdown",
   "id": "a80151cf",
   "metadata": {
    "papermill": {
     "duration": 0.004126,
     "end_time": "2023-08-25T09:27:52.444243",
     "exception": false,
     "start_time": "2023-08-25T09:27:52.440117",
     "status": "completed"
    },
    "tags": []
   },
   "source": [
    "Now we can load our data."
   ]
  },
  {
   "cell_type": "code",
   "execution_count": 3,
   "id": "e768e78c",
   "metadata": {
    "execution": {
     "iopub.execute_input": "2023-08-25T09:27:52.456491Z",
     "iopub.status.busy": "2023-08-25T09:27:52.454908Z",
     "iopub.status.idle": "2023-08-25T09:27:57.206997Z",
     "shell.execute_reply": "2023-08-25T09:27:57.205067Z"
    },
    "papermill": {
     "duration": 4.76187,
     "end_time": "2023-08-25T09:27:57.210349",
     "exception": false,
     "start_time": "2023-08-25T09:27:52.448479",
     "status": "completed"
    },
    "tags": []
   },
   "outputs": [],
   "source": [
    "dados <- read_csv(\"/kaggle/input/RJweather/data.csv\",show_col_types = FALSE )"
   ]
  },
  {
   "cell_type": "markdown",
   "id": "f4f76c31",
   "metadata": {
    "papermill": {
     "duration": 0.004595,
     "end_time": "2023-08-25T09:27:57.219623",
     "exception": false,
     "start_time": "2023-08-25T09:27:57.215028",
     "status": "completed"
    },
    "tags": []
   },
   "source": [
    "We don't need the entire dataset for this project. So, we create a subset containing only the three weather stations selected (A602, A621 and A652) and the desired timeframe (from 2012/01/01 to 2021/12/31). We will also discard all the data for the days where there is a missing value in any of the columns we are working with."
   ]
  },
  {
   "cell_type": "code",
   "execution_count": 4,
   "id": "1a7800e4",
   "metadata": {
    "execution": {
     "iopub.execute_input": "2023-08-25T09:27:57.233421Z",
     "iopub.status.busy": "2023-08-25T09:27:57.231668Z",
     "iopub.status.idle": "2023-08-25T09:27:57.430919Z",
     "shell.execute_reply": "2023-08-25T09:27:57.428970Z"
    },
    "papermill": {
     "duration": 0.208449,
     "end_time": "2023-08-25T09:27:57.433937",
     "exception": false,
     "start_time": "2023-08-25T09:27:57.225488",
     "status": "completed"
    },
    "tags": []
   },
   "outputs": [],
   "source": [
    "selected_columns <- c(\"primary_key\", \"id_estacao\", \"data\", \"horario\", \"temperatura_maxima\", \"acumulado_chuva_1_h\")\n",
    "\n",
    "# Subset the dataframe based on conditions\n",
    "subset_dados <- dados[dados$id_estacao %in% c(\"A602\", \"A621\", \"A652\") &\n",
    "                        dados$data >= as.Date(\"2012-01-01\") & dados$data <= as.Date(\"2021-12-31\"),\n",
    "                      selected_columns]\n",
    "\n",
    "# Identify dates with missing data for specified columns\n",
    "missing_values <- unique(subset_dados$data[is.na(subset_dados$temperatura_maxima) | is.na(subset_dados$acumulado_chuva_1_h)])\n",
    "\n",
    "# Filter out rows with missing data for specific columns and the corresponding dates\n",
    "DataSet <- subset_dados[!(subset_dados$data %in% missing_values), ]"
   ]
  },
  {
   "cell_type": "markdown",
   "id": "89332935",
   "metadata": {
    "papermill": {
     "duration": 0.00429,
     "end_time": "2023-08-25T09:27:57.442540",
     "exception": false,
     "start_time": "2023-08-25T09:27:57.438250",
     "status": "completed"
    },
    "tags": []
   },
   "source": [
    "Finally, we used the functions we defined before to calculate the daily data, instead of hourly, and keep only one register per date."
   ]
  },
  {
   "cell_type": "code",
   "execution_count": 5,
   "id": "66477e1e",
   "metadata": {
    "execution": {
     "iopub.execute_input": "2023-08-25T09:27:57.454771Z",
     "iopub.status.busy": "2023-08-25T09:27:57.453122Z",
     "iopub.status.idle": "2023-08-25T09:28:10.628079Z",
     "shell.execute_reply": "2023-08-25T09:28:10.626274Z"
    },
    "papermill": {
     "duration": 13.183942,
     "end_time": "2023-08-25T09:28:10.630846",
     "exception": false,
     "start_time": "2023-08-25T09:27:57.446904",
     "status": "completed"
    },
    "tags": []
   },
   "outputs": [
    {
     "name": "stdout",
     "output_type": "stream",
     "text": [
      "  |==================================================| 100%\n",
      "  |==================================================| 100%\n",
      "Done!"
     ]
    }
   ],
   "source": [
    "# Calculate rains above 30mm in 24h (Cumulative sum function)\n",
    "window_size_rain <- 24\n",
    "column_name_rain <- \"acumulado_chuva_1_h\"\n",
    "DataSet$rain_24h <- cumulative_sum(DataSet, column_name_rain, window_size_rain)\n",
    "\n",
    "# Calculate extreme heat events (Calculate max within window function)\n",
    "window_size_temp <- 24\n",
    "column_name_temp <- \"temperatura_maxima\"\n",
    "DataSet$max_temp_24h <- max_within_window(DataSet, column_name_temp, window_size_temp)\n",
    "\n",
    "DataSet <- DataSet %>%\n",
    "  distinct(data, id_estacao, .keep_all = TRUE)\n",
    "DataSet$year<-as.numeric(substr(DataSet$data,1,4))"
   ]
  },
  {
   "cell_type": "markdown",
   "id": "0f8d8880",
   "metadata": {
    "papermill": {
     "duration": 0.022098,
     "end_time": "2023-08-25T09:28:10.675565",
     "exception": false,
     "start_time": "2023-08-25T09:28:10.653467",
     "status": "completed"
    },
    "tags": []
   },
   "source": [
    "Next, we create new datasets where we will count the events we are monitoring. In dc30 we will count the number of days with cumulative rain above 30mm, and in mt40 we count the days with maximum temparature above 40ºC."
   ]
  },
  {
   "cell_type": "code",
   "execution_count": 6,
   "id": "db0795e3",
   "metadata": {
    "execution": {
     "iopub.execute_input": "2023-08-25T09:28:10.723784Z",
     "iopub.status.busy": "2023-08-25T09:28:10.722215Z",
     "iopub.status.idle": "2023-08-25T09:28:10.816980Z",
     "shell.execute_reply": "2023-08-25T09:28:10.815104Z"
    },
    "papermill": {
     "duration": 0.121681,
     "end_time": "2023-08-25T09:28:10.819545",
     "exception": false,
     "start_time": "2023-08-25T09:28:10.697864",
     "status": "completed"
    },
    "tags": []
   },
   "outputs": [],
   "source": [
    "dc30 <- data.frame(estacao = character(0), ano = numeric(0), rain_over_30 = numeric(0))\n",
    "stations <- c(\"A602\", \"A621\", \"A652\")\n",
    "years <- seq(2012, 2021)\n",
    "\n",
    "for (year in years) {\n",
    "  for (station in stations) {\n",
    "    dc_row <- data.frame(\n",
    "      estacao = station,\n",
    "      ano = year,\n",
    "      rain_over_30 = sum(DataSet$id_estacao == station & DataSet$rain_24h > 30 & DataSet$year == year)\n",
    "    )\n",
    "    dc30 <- rbind(dc30, dc_row)\n",
    "  }\n",
    "}\n",
    "\n",
    "mt40 <- data.frame(estacao = character(0), ano = numeric(0), temp_over_40 = numeric(0))\n",
    "stations <- c(\"A602\", \"A621\", \"A652\")\n",
    "years <- seq(2012, 2021)\n",
    "\n",
    "for (year in years) {\n",
    "  for (station in stations) {\n",
    "    mt_row <- data.frame(\n",
    "      estacao = station,\n",
    "      ano = year,\n",
    "      temp_over_40 = sum(DataSet$id_estacao == station & DataSet$max_temp_24h > 40 & DataSet$year == year)\n",
    "    )\n",
    "    mt40 <- rbind(mt40, mt_row)\n",
    "  }\n",
    "}"
   ]
  },
  {
   "cell_type": "markdown",
   "id": "63f7d8c2",
   "metadata": {
    "papermill": {
     "duration": 0.021825,
     "end_time": "2023-08-25T09:28:10.863545",
     "exception": false,
     "start_time": "2023-08-25T09:28:10.841720",
     "status": "completed"
    },
    "tags": []
   },
   "source": [
    "To realize the Chi-square goodness of fit test, it is necessary to calculate the probability of each observed outcome, assuming that the data follows a Poisson distribution. But in order to do that, first we need to calculate λ. In this case, we can consider the sample mean as an estimator. After that, we can calculate the probability of the observed outcomes using the R function dpois. We store the results in matrices."
   ]
  },
  {
   "cell_type": "code",
   "execution_count": 7,
   "id": "f60b58e5",
   "metadata": {
    "execution": {
     "iopub.execute_input": "2023-08-25T09:28:10.911542Z",
     "iopub.status.busy": "2023-08-25T09:28:10.910014Z",
     "iopub.status.idle": "2023-08-25T09:28:10.970991Z",
     "shell.execute_reply": "2023-08-25T09:28:10.969016Z"
    },
    "papermill": {
     "duration": 0.088169,
     "end_time": "2023-08-25T09:28:10.974130",
     "exception": false,
     "start_time": "2023-08-25T09:28:10.885961",
     "status": "completed"
    },
    "tags": []
   },
   "outputs": [],
   "source": [
    "#Calculating probabilities for dc30\n",
    "lambda_dc30 = c()\n",
    "\n",
    "for (station in stations) {\n",
    "  lambda_dc30<-append(lambda_dc30,mean(dc30$rain_over_30[dc30$estacao==station]))\n",
    "}\n",
    "\n",
    "probs_dc30 <- matrix(nrow = length(stations), ncol = length(years))\n",
    "rownames(probs_dc30) <- stations\n",
    "colnames(probs_dc30) <- years\n",
    "\n",
    "i <- 1\n",
    "for (station in stations) {\n",
    "  probs_dc30[i, ] <- dpois(dc30$rain_over_30[dc30$estacao == station], lambda_dc30[i])\n",
    "  i <- i + 1\n",
    "}\n",
    "\n",
    "#Calculating probabilities for mt40\n",
    "lambda_mt40 = c()\n",
    "\n",
    "for (station in stations) {\n",
    "  lambda_mt40<-append(lambda_mt40,mean(mt40$temp_over_40[mt40$estacao==station]))\n",
    "}\n",
    "\n",
    "probs_mt40 <- matrix(nrow = length(stations), ncol = length(years))\n",
    "rownames(probs_mt40) <- stations\n",
    "colnames(probs_mt40) <- years\n",
    "\n",
    "i <- 1\n",
    "for (station in stations) {\n",
    "  probs_mt40[i, ] <- dpois(mt40$temp_over_40[mt40$estacao == station], lambda_mt40[i])\n",
    "  i <- i + 1\n",
    "}"
   ]
  },
  {
   "cell_type": "code",
   "execution_count": 8,
   "id": "7c4fbdfc",
   "metadata": {
    "execution": {
     "iopub.execute_input": "2023-08-25T09:28:11.022059Z",
     "iopub.status.busy": "2023-08-25T09:28:11.020347Z",
     "iopub.status.idle": "2023-08-25T09:28:11.144059Z",
     "shell.execute_reply": "2023-08-25T09:28:11.142283Z"
    },
    "papermill": {
     "duration": 0.150283,
     "end_time": "2023-08-25T09:28:11.146404",
     "exception": false,
     "start_time": "2023-08-25T09:28:10.996121",
     "status": "completed"
    },
    "tags": []
   },
   "outputs": [
    {
     "name": "stderr",
     "output_type": "stream",
     "text": [
      "Warning message in chisq.test(dc30$rain_over_30[dc30$estacao == station], p = probs_dc30[i, :\n",
      "“Chi-squared approximation may be incorrect”\n",
      "Warning message in chisq.test(dc30$rain_over_30[dc30$estacao == station], p = probs_dc30[i, :\n",
      "“Chi-squared approximation may be incorrect”\n",
      "Warning message in chisq.test(dc30$rain_over_30[dc30$estacao == station], p = probs_dc30[i, :\n",
      "“Chi-squared approximation may be incorrect”\n",
      "Warning message in chisq.test(mt40$temp_over_40[mt40$estacao == station], p = probs_mt40[i, :\n",
      "“Chi-squared approximation may be incorrect”\n",
      "Warning message in chisq.test(mt40$temp_over_40[mt40$estacao == station], p = probs_mt40[i, :\n",
      "“Chi-squared approximation may be incorrect”\n",
      "Error for station A652 : at least one entry of 'x' must be positive\n",
      "\n"
     ]
    }
   ],
   "source": [
    "chis_dc30 <- c()\n",
    "p_vals_dc30 <- c()\n",
    "i <- 1\n",
    "\n",
    "for (station in stations) {\n",
    "  tryCatch({\n",
    "    test <- chisq.test(dc30$rain_over_30[dc30$estacao == station], p = probs_dc30[i,], rescale.p = TRUE)\n",
    "    chis_dc30 <- append(chis_dc30, test$statistic)\n",
    "    p_vals_dc30 <- append(p_vals_dc30, test$p.value)\n",
    "    i <- i + 1\n",
    "  }, error = function(e) {\n",
    "    chis_dc30 <- append(chis_dc30, NA)  # Store NA for the failed calculation\n",
    "    p_vals_dc30 <- append(p_vals_dc30, NA)\n",
    "    i <- i + 1\n",
    "    message(paste(\"Error for station\", station, \":\", conditionMessage(e)))\n",
    "  })\n",
    "}\n",
    "\n",
    "# Similar error handling for chis_mt40 and p_vals_mt40 loops\n",
    "\n",
    "\n",
    "chis_mt40 = c()\n",
    "p_vals_mt40 = c()\n",
    "i <- 1\n",
    "for (station in stations) {\n",
    "  tryCatch({\n",
    "    test <- chisq.test(mt40$temp_over_40[mt40$estacao == station], p = probs_mt40[i,], rescale.p = TRUE)\n",
    "    chis_mt40 <- append(chis_mt40, test$statistic)\n",
    "    p_vals_mt40 <- append(p_vals_mt40, test$p.value)\n",
    "    i <- i + 1\n",
    "  }, error = function(e) {\n",
    "    chis_mt40 <- append(chis_mt40, NA)  # Store NA for the failed calculation\n",
    "    p_vals_mt40 <- append(p_vals_mt40, NA)\n",
    "    i <- i + 1\n",
    "    message(paste(\"Error for station\", station, \":\", conditionMessage(e)))\n",
    "  })\n",
    "}"
   ]
  },
  {
   "cell_type": "markdown",
   "id": "5c00a81a",
   "metadata": {
    "papermill": {
     "duration": 0.022362,
     "end_time": "2023-08-25T09:28:11.191080",
     "exception": false,
     "start_time": "2023-08-25T09:28:11.168718",
     "status": "completed"
    },
    "tags": []
   },
   "source": [
    "It seems that we have a problem with the Chi-Squared Test for the mt40 matrix. Let's see what happened."
   ]
  },
  {
   "cell_type": "code",
   "execution_count": 9,
   "id": "d442bcc0",
   "metadata": {
    "execution": {
     "iopub.execute_input": "2023-08-25T09:28:11.239500Z",
     "iopub.status.busy": "2023-08-25T09:28:11.237817Z",
     "iopub.status.idle": "2023-08-25T09:28:11.258126Z",
     "shell.execute_reply": "2023-08-25T09:28:11.255974Z"
    },
    "papermill": {
     "duration": 0.046869,
     "end_time": "2023-08-25T09:28:11.260365",
     "exception": false,
     "start_time": "2023-08-25T09:28:11.213496",
     "status": "completed"
    },
    "tags": []
   },
   "outputs": [
    {
     "name": "stdout",
     "output_type": "stream",
     "text": [
      "   estacao  ano temp_over_40\n",
      "3     A652 2012            0\n",
      "6     A652 2013            0\n",
      "9     A652 2014            0\n",
      "12    A652 2015            0\n",
      "15    A652 2016            0\n",
      "18    A652 2017            0\n",
      "21    A652 2018            0\n",
      "24    A652 2019            0\n",
      "27    A652 2020            0\n",
      "30    A652 2021            0\n"
     ]
    }
   ],
   "source": [
    "print(mt40[mt40$estacao==station,])"
   ]
  },
  {
   "cell_type": "markdown",
   "id": "a99ba258",
   "metadata": {
    "papermill": {
     "duration": 0.022455,
     "end_time": "2023-08-25T09:28:11.305379",
     "exception": false,
     "start_time": "2023-08-25T09:28:11.282924",
     "status": "completed"
    },
    "tags": []
   },
   "source": [
    "![](https://i.kym-cdn.com/photos/images/original/000/228/269/demotivational-posters-theres-your-problem.jpg)\n",
    "\n",
    "We got an error because the station A652 didn't record any temperature over 40ºC in the selected timeframe. No problem, we can ignore this station then.\n",
    "In the end, we got these results:"
   ]
  },
  {
   "cell_type": "markdown",
   "id": "85da3d46",
   "metadata": {
    "papermill": {
     "duration": 0.022391,
     "end_time": "2023-08-25T09:28:11.350273",
     "exception": false,
     "start_time": "2023-08-25T09:28:11.327882",
     "status": "completed"
    },
    "tags": []
   },
   "source": [
    "**Results for Rain over 30mm in 24h:**\n",
    "\n",
    "| Station   | χ²          | P-value    |\n",
    "|-----------|-------------|------------|\n",
    "| A602 | 5.713608e+15 | 0 |\n",
    "| A621 | 1.518308e+11 | 0 |\n",
    "| A652 | 5.739998e+11 | 0 |\n",
    "\n",
    "\n",
    "**Results for Maximum Temperature over 40ºC:**\n",
    "\n",
    "| Station   | χ²          | P-value    |\n",
    "|-----------|-------------|------------|\n",
    "| A602 | 136699652 | 0 |\n",
    "| A621 | 1983807 | 0 |\n",
    "| A652 | NA* | NA* |\n",
    "\n",
    "**Chi-Squared GOF test failed as no such events were registered in the given timeframe.*"
   ]
  },
  {
   "cell_type": "markdown",
   "id": "f75d65b2",
   "metadata": {
    "papermill": {
     "duration": 0.022568,
     "end_time": "2023-08-25T09:28:11.395201",
     "exception": false,
     "start_time": "2023-08-25T09:28:11.372633",
     "status": "completed"
    },
    "tags": []
   },
   "source": [
    "So, what can we conclude from this test? In all the evaluated scenarios, it was possible to reject the null hypothesis, meaning that none of the observed samples followed a Poisson distribution. The Poisson distribution is a relatively simple model that assumes that the events being modeled are independent and occur at a constant rate. In practice, the occurrence of extreme weather events may be influenced by a variety of factors, such as atmospheric and oceanic conditions, which may not be well-represented by the Poisson distribution. As a result, more complex statistical models are needed to accurately model extreme weather events."
   ]
  }
 ],
 "metadata": {
  "kernelspec": {
   "display_name": "R",
   "language": "R",
   "name": "ir"
  },
  "language_info": {
   "codemirror_mode": "r",
   "file_extension": ".r",
   "mimetype": "text/x-r-source",
   "name": "R",
   "pygments_lexer": "r",
   "version": "4.0.5"
  },
  "papermill": {
   "default_parameters": {},
   "duration": 22.758752,
   "end_time": "2023-08-25T09:28:11.539224",
   "environment_variables": {},
   "exception": null,
   "input_path": "__notebook__.ipynb",
   "output_path": "__notebook__.ipynb",
   "parameters": {},
   "start_time": "2023-08-25T09:27:48.780472",
   "version": "2.4.0"
  }
 },
 "nbformat": 4,
 "nbformat_minor": 5
}
